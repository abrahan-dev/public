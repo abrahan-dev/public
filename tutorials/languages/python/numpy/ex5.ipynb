{
 "cells": [
  {
   "cell_type": "markdown",
   "metadata": {},
   "source": [
    "# Slicing arrays"
   ]
  },
  {
   "cell_type": "code",
   "execution_count": 1,
   "metadata": {},
   "outputs": [
    {
     "name": "stdout",
     "output_type": "stream",
     "text": [
      "[[ 0  1  2  3  4]\n",
      " [ 5  6  7  8  9]\n",
      " [10 11 12 13 14]\n",
      " [15 16 17 18 19]]\n"
     ]
    }
   ],
   "source": [
    "import numpy as np\n",
    "a = np.arange(20).reshape(4,5)\n",
    "print(a)"
   ]
  },
  {
   "cell_type": "code",
   "execution_count": 6,
   "metadata": {},
   "outputs": [
    {
     "name": "stdout",
     "output_type": "stream",
     "text": [
      "[[ 7  8  9]\n",
      " [12 13 14]\n",
      " [17 18 19]]\n",
      "[[ 7  8  9]\n",
      " [12 13 14]\n",
      " [17 18 19]]\n",
      "[ 2  7 12 17]\n"
     ]
    }
   ],
   "source": [
    "# slice items starting from row 1 to 4 and from column 2 to 5\n",
    "print(a[1:4, 2:5])\n",
    "# equivalent to the previous example\n",
    "print(a[1:, 2:])\n",
    "# slice items of the third column and copy it to a new variable\n",
    "new_vector = a[:, 2].copy()\n",
    "print(new_vector)"
   ]
  },
  {
   "cell_type": "code",
   "execution_count": 10,
   "metadata": {},
   "outputs": [
    {
     "name": "stdout",
     "output_type": "stream",
     "text": [
      "[[11 12 13]\n",
      " [21 22 23]\n",
      " [31 32 33]]\n",
      "[11 22 33]\n",
      "[12 23]\n",
      "[12 23]\n"
     ]
    }
   ],
   "source": [
    "# create a 2D array and extract the diagonal\n",
    "a = np.array([[11, 12, 13], [21, 22, 23], [31, 32, 33]])\n",
    "print(a)\n",
    "print(a.diagonal())\n",
    "# extract the diagonal one above the main diagonal\n",
    "print(a.diagonal(offset=1))\n",
    "# using the diag method\n",
    "print(np.diag(a, k=1))"
   ]
  },
  {
   "cell_type": "code",
   "execution_count": 11,
   "metadata": {},
   "outputs": [
    {
     "name": "stdout",
     "output_type": "stream",
     "text": [
      "[[1 2 3]\n",
      " [4 5 6]\n",
      " [1 2 3]]\n",
      "[1 2 3 4 5 6]\n"
     ]
    }
   ],
   "source": [
    "# create a 2D array and extract the unique values\n",
    "a = np.array([[1, 2, 3], [4, 5, 6], [1, 2, 3]])\n",
    "print(a)\n",
    "print(np.unique(a))"
   ]
  }
 ],
 "metadata": {
  "kernelspec": {
   "display_name": "base",
   "language": "python",
   "name": "python3"
  },
  "language_info": {
   "codemirror_mode": {
    "name": "ipython",
    "version": 3
   },
   "file_extension": ".py",
   "mimetype": "text/x-python",
   "name": "python",
   "nbconvert_exporter": "python",
   "pygments_lexer": "ipython3",
   "version": "3.11.7"
  }
 },
 "nbformat": 4,
 "nbformat_minor": 2
}
