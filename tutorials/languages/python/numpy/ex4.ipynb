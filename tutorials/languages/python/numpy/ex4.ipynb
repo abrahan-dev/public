{
 "cells": [
  {
   "cell_type": "code",
   "execution_count": 10,
   "metadata": {},
   "outputs": [
    {
     "name": "stdout",
     "output_type": "stream",
     "text": [
      "[5 2 3]\n",
      "5\n",
      "5\n"
     ]
    }
   ],
   "source": [
    "import numpy as np\n",
    "\n",
    "# numpy arrays are mutable\n",
    "a = np.array([1, 2, 3])\n",
    "a[0] = 5\n",
    "print(a)\n",
    "\n",
    "# print first element\n",
    "print(a[0])\n",
    "# print first element using negative index\n",
    "print(a[-3])"
   ]
  },
  {
   "cell_type": "code",
   "execution_count": 11,
   "metadata": {},
   "outputs": [
    {
     "name": "stdout",
     "output_type": "stream",
     "text": [
      "[[7 2 3]\n",
      " [4 5 6]]\n"
     ]
    }
   ],
   "source": [
    "# update an element of a 2D array\n",
    "b = np.array([[1, 2, 3], [4, 5, 6]])\n",
    "b[0, 0] = 7\n",
    "print(b)"
   ]
  },
  {
   "cell_type": "code",
   "execution_count": 12,
   "metadata": {},
   "outputs": [
    {
     "name": "stdout",
     "output_type": "stream",
     "text": [
      "[5 7 9]\n",
      "[ 6 15]\n"
     ]
    }
   ],
   "source": [
    "# example of using axis 0 and 1\n",
    "c = np.array([[1, 2, 3], [4, 5, 6]])\n",
    "print(c.sum(axis=0))  # sum of each column\n",
    "print(c.sum(axis=1))  # sum of each row"
   ]
  },
  {
   "cell_type": "code",
   "execution_count": 13,
   "metadata": {},
   "outputs": [
    {
     "name": "stdout",
     "output_type": "stream",
     "text": [
      "[2 3 4]\n"
     ]
    }
   ],
   "source": [
    "# create a 1D array and delete the first and the last element\n",
    "e = np.array([1, 2, 3, 4, 5])\n",
    "e = np.delete(e, [0, 4])\n",
    "print(e)"
   ]
  },
  {
   "cell_type": "code",
   "execution_count": 14,
   "metadata": {},
   "outputs": [
    {
     "name": "stdout",
     "output_type": "stream",
     "text": [
      "[[4 5 6]]\n",
      "[[2 3]\n",
      " [5 6]]\n"
     ]
    }
   ],
   "source": [
    "# example of using axis 0 and 1 for deleting\n",
    "d = np.array([[1, 2, 3], [4, 5, 6]])\n",
    "print(np.delete(d, 0, axis=0))  # delete first row\n",
    "print(np.delete(d, 0, axis=1))  # delete first column"
   ]
  },
  {
   "cell_type": "code",
   "execution_count": 15,
   "metadata": {},
   "outputs": [
    {
     "name": "stdout",
     "output_type": "stream",
     "text": [
      "[1 2 3 4]\n"
     ]
    }
   ],
   "source": [
    "# example of appending an element to a 1D array\n",
    "f = np.array([1, 2, 3])\n",
    "f = np.append(f, 4)\n",
    "print(f)"
   ]
  },
  {
   "cell_type": "code",
   "execution_count": 16,
   "metadata": {},
   "outputs": [
    {
     "name": "stdout",
     "output_type": "stream",
     "text": [
      "[[1 2 3]\n",
      " [4 5 6]\n",
      " [7 8 9]]\n",
      "[[1 2 3 7]\n",
      " [4 5 6 8]]\n"
     ]
    }
   ],
   "source": [
    "# example of using axis 0 and 1 for appending\n",
    "g = np.array([[1, 2, 3], [4, 5, 6]])\n",
    "print(np.append(g, [[7, 8, 9]], axis=0))  # append a row\n",
    "print(np.append(g, [[7], [8]], axis=1))  # append a column"
   ]
  },
  {
   "cell_type": "code",
   "execution_count": 17,
   "metadata": {},
   "outputs": [
    {
     "name": "stdout",
     "output_type": "stream",
     "text": [
      "[1 4 2 3]\n"
     ]
    }
   ],
   "source": [
    "# example of inserting an element to a 1D array\n",
    "h = np.array([1, 2, 3])\n",
    "h = np.insert(h, 1, 4)\n",
    "print(h)"
   ]
  },
  {
   "cell_type": "code",
   "execution_count": 18,
   "metadata": {},
   "outputs": [
    {
     "name": "stdout",
     "output_type": "stream",
     "text": [
      "[[1 2 3]\n",
      " [7 8 9]\n",
      " [4 5 6]]\n",
      "[[1 7 2 3]\n",
      " [4 7 5 6]]\n"
     ]
    }
   ],
   "source": [
    "# example of using axis 0 and 1 for inserting\n",
    "i = np.array([[1, 2, 3], [4, 5, 6]])\n",
    "print(np.insert(i, 1, [7, 8, 9], axis=0))  # insert a row\n",
    "print(np.insert(i, 1, 7, axis=1))  # insert a column"
   ]
  },
  {
   "cell_type": "code",
   "execution_count": 19,
   "metadata": {},
   "outputs": [
    {
     "name": "stdout",
     "output_type": "stream",
     "text": [
      "[[1 2 3]\n",
      " [4 5 6]]\n",
      "[[1 4]\n",
      " [2 5]\n",
      " [3 6]]\n"
     ]
    }
   ],
   "source": [
    "# example of using axis 0 and 1 for stacking\n",
    "j = np.array([1, 2, 3])\n",
    "k = np.array([4, 5, 6])\n",
    "print(np.stack((j, k), axis=0))  # stack arrays vertically\n",
    "print(np.stack((j, k), axis=1))  # stack arrays horizontally\n"
   ]
  }
 ],
 "metadata": {
  "kernelspec": {
   "display_name": "base",
   "language": "python",
   "name": "python3"
  },
  "language_info": {
   "codemirror_mode": {
    "name": "ipython",
    "version": 3
   },
   "file_extension": ".py",
   "mimetype": "text/x-python",
   "name": "python",
   "nbconvert_exporter": "python",
   "pygments_lexer": "ipython3",
   "version": "3.11.7"
  }
 },
 "nbformat": 4,
 "nbformat_minor": 2
}
