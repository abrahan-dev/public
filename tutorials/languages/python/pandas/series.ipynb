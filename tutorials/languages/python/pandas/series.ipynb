{
 "cells": [
  {
   "cell_type": "code",
   "execution_count": 18,
   "metadata": {},
   "outputs": [
    {
     "name": "stdout",
     "output_type": "stream",
     "text": [
      "a    1\n",
      "b    2\n",
      "c    3\n",
      "d    4\n",
      "e    5\n",
      "dtype: int64\n",
      "(5,)\n",
      "5\n",
      "Index(['a', 'b', 'c', 'd', 'e'], dtype='object')\n",
      "[1 2 3 4 5]\n"
     ]
    }
   ],
   "source": [
    "import pandas as pd\n",
    "import numpy as np\n",
    "\n",
    "series = pd.Series([1, 2, 3, 4, 5], index=['a', 'b', 'c', 'd', 'e'])\n",
    "print(series)\n",
    "print(series.shape)\n",
    "print(series.size)\n",
    "print(series.index)\n",
    "print(series.values)\n"
   ]
  },
  {
   "cell_type": "code",
   "execution_count": 19,
   "metadata": {},
   "outputs": [
    {
     "data": {
      "text/plain": [
       "1"
      ]
     },
     "execution_count": 19,
     "metadata": {},
     "output_type": "execute_result"
    }
   ],
   "source": [
    "series['a']"
   ]
  },
  {
   "cell_type": "code",
   "execution_count": 20,
   "metadata": {},
   "outputs": [
    {
     "data": {
      "text/plain": [
       "a    1\n",
       "c    3\n",
       "e    5\n",
       "dtype: int64"
      ]
     },
     "execution_count": 20,
     "metadata": {},
     "output_type": "execute_result"
    }
   ],
   "source": [
    "series[['a', 'c', 'e']]"
   ]
  },
  {
   "cell_type": "code",
   "execution_count": 21,
   "metadata": {},
   "outputs": [
    {
     "data": {
      "text/plain": [
       "1"
      ]
     },
     "execution_count": 21,
     "metadata": {},
     "output_type": "execute_result"
    }
   ],
   "source": [
    "series.iloc[0] # explicit index as integer is used"
   ]
  },
  {
   "cell_type": "code",
   "execution_count": 22,
   "metadata": {},
   "outputs": [],
   "source": [
    "series['a'] = 100"
   ]
  },
  {
   "cell_type": "code",
   "execution_count": 23,
   "metadata": {},
   "outputs": [
    {
     "name": "stdout",
     "output_type": "stream",
     "text": [
      "b    2\n",
      "c    3\n",
      "d    4\n",
      "e    5\n",
      "dtype: int64\n",
      "a    100\n",
      "b      2\n",
      "c      3\n",
      "d      4\n",
      "e      5\n",
      "dtype: int64\n",
      "b    2\n",
      "c    3\n",
      "d    4\n",
      "e    5\n",
      "dtype: int64\n"
     ]
    }
   ],
   "source": [
    "dropped = series.drop('a')\n",
    "print(dropped)\n",
    "print(series)\n",
    "series.drop('a', inplace=True)\n",
    "print(series)"
   ]
  },
  {
   "cell_type": "markdown",
   "metadata": {},
   "source": [
    "## arithmetic operations"
   ]
  },
  {
   "cell_type": "code",
   "execution_count": 24,
   "metadata": {},
   "outputs": [
    {
     "name": "stdout",
     "output_type": "stream",
     "text": [
      "Apple     10\n",
      "Banana     5\n",
      "Orange     8\n",
      "Mango     12\n",
      "dtype: int64\n",
      "Apple     12\n",
      "Banana     7\n",
      "Orange    10\n",
      "Mango     14\n",
      "dtype: int64\n",
      "Apple     100\n",
      "Banana     25\n",
      "Orange     64\n",
      "Mango     144\n",
      "dtype: int64\n"
     ]
    }
   ],
   "source": [
    "fruits = pd.Series([10, 5, 8, 12], index=['Apple', 'Banana', 'Orange', 'Mango'])\n",
    "more_fruits = fruits + 2\n",
    "print(fruits)\n",
    "print(more_fruits)\n",
    "even_more_fruits = np.power(fruits, 2)\n",
    "print(even_more_fruits)"
   ]
  },
  {
   "cell_type": "markdown",
   "metadata": {},
   "source": [
    "## Manipulate a series"
   ]
  },
  {
   "cell_type": "code",
   "execution_count": 25,
   "metadata": {},
   "outputs": [
    {
     "name": "stdout",
     "output_type": "stream",
     "text": [
      "Earth       149.6\n",
      "Saturn     1433.5\n",
      "Venus       108.2\n",
      "Mars        227.9\n",
      "Jupiter     778.6\n",
      "dtype: float64\n",
      "Earth       8.311111\n",
      "Saturn     79.638889\n",
      "Venus       6.011111\n",
      "Mars       12.661111\n",
      "Jupiter    43.255556\n",
      "dtype: float64\n",
      "Earth     8.311111\n",
      "Venus     6.011111\n",
      "Mars     12.661111\n",
      "dtype: float64\n"
     ]
    }
   ],
   "source": [
    "import pandas as pd\n",
    "\n",
    "# DO NOT CHANGE THE VARIABLE NAMES\n",
    "\n",
    "# Given a list representing a few planets\n",
    "planets = ['Earth', 'Saturn', 'Venus', 'Mars', 'Jupiter']\n",
    "\n",
    "# Given another list representing the distance of each of these planets from the Sun\n",
    "# The distance from the Sun is in units of 10^6 km\n",
    "distance_from_sun = [149.6, 1433.5, 108.2, 227.9, 778.6]\n",
    "\n",
    "# TO DO: Create a Pandas Series \"dist_planets\" using the lists above, representing the distance of the planet from the Sun.\n",
    "# Use the `distance_from_sun` as your data, and `planets` as your index.\n",
    "dist_planets = pd.Series(data=distance_from_sun, index=planets)\n",
    "\n",
    "# TO DO: Calculate the time (minutes) it takes light from the Sun to reach each planet. \n",
    "# You can do this by dividing each planet's distance from the Sun by the speed of light.\n",
    "# Use the speed of light, c = 18, since light travels 18 x 10^6 km/minute.\n",
    "time_light = dist_planets / 18\n",
    "\n",
    "# TO DO: Use Boolean indexing to select only those planets for which sunlight takes less\n",
    "# than 40 minutes to reach them.\n",
    "close_planets = time_light[time_light < 40]\n",
    "\n",
    "print(dist_planets)\n",
    "print(time_light)\n",
    "print(close_planets)"
   ]
  }
 ],
 "metadata": {
  "kernelspec": {
   "display_name": "base",
   "language": "python",
   "name": "python3"
  },
  "language_info": {
   "codemirror_mode": {
    "name": "ipython",
    "version": 3
   },
   "file_extension": ".py",
   "mimetype": "text/x-python",
   "name": "python",
   "nbconvert_exporter": "python",
   "pygments_lexer": "ipython3",
   "version": "3.11.7"
  }
 },
 "nbformat": 4,
 "nbformat_minor": 2
}
