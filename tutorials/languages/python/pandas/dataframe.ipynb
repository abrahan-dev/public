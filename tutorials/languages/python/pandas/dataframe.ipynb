{
 "cells": [
  {
   "cell_type": "markdown",
   "metadata": {},
   "source": [
    "# Dataframes"
   ]
  },
  {
   "cell_type": "code",
   "execution_count": 43,
   "metadata": {},
   "outputs": [
    {
     "name": "stdout",
     "output_type": "stream",
     "text": [
      "           Bob  Alice\n",
      "bike     245.0  500.0\n",
      "book       NaN   40.0\n",
      "glasses    NaN  110.0\n",
      "pants     25.0   45.0\n",
      "watch     55.0    NaN\n",
      "(5, 2)\n",
      "[[245. 500.]\n",
      " [ nan  40.]\n",
      " [ nan 110.]\n",
      " [ 25.  45.]\n",
      " [ 55.  nan]]\n",
      "Index(['bike', 'book', 'glasses', 'pants', 'watch'], dtype='object')\n",
      "Index(['Bob', 'Alice'], dtype='object')\n",
      "10\n",
      "2\n"
     ]
    }
   ],
   "source": [
    "import pandas as pd\n",
    "\n",
    "items = {'Bob': pd.Series(data=[245, 25, 55], index=['bike', 'pants', 'watch']),\n",
    "            'Alice': pd.Series(data=[40, 110, 500, 45], index=['book', 'glasses', 'bike', 'pants'])}\n",
    "\n",
    "shopping_carts = pd.DataFrame(items)\n",
    "print(shopping_carts)\n",
    "print(shopping_carts.shape)\n",
    "print(shopping_carts.values)\n",
    "print(shopping_carts.index)\n",
    "print(shopping_carts.columns)\n",
    "print(shopping_carts.size)\n",
    "print(shopping_carts.ndim)"
   ]
  },
  {
   "cell_type": "code",
   "execution_count": 44,
   "metadata": {},
   "outputs": [
    {
     "name": "stdout",
     "output_type": "stream",
     "text": [
      "           Bob\n",
      "bike     245.0\n",
      "book       NaN\n",
      "glasses    NaN\n",
      "pants     25.0\n",
      "watch     55.0\n",
      "25.0\n"
     ]
    }
   ],
   "source": [
    "bob = shopping_carts[['Bob']]\n",
    "print(bob)\n",
    "\n",
    "bob_pants = shopping_carts['Bob']['pants'] # [column label][row label]\n",
    "print(bob_pants)"
   ]
  },
  {
   "cell_type": "code",
   "execution_count": 45,
   "metadata": {},
   "outputs": [
    {
     "name": "stdout",
     "output_type": "stream",
     "text": [
      "       Bob\n",
      "bike   245\n",
      "pants   25\n",
      "watch   55\n"
     ]
    }
   ],
   "source": [
    "bob_df = pd.DataFrame(items, columns=['Bob'])\n",
    "print(bob_df)"
   ]
  },
  {
   "cell_type": "code",
   "execution_count": 46,
   "metadata": {},
   "outputs": [
    {
     "name": "stdout",
     "output_type": "stream",
     "text": [
      "        Bob  Alice  Total\n",
      "pants  25.0     45   70.0\n",
      "book    NaN     40    NaN\n"
     ]
    }
   ],
   "source": [
    "new_df = pd.DataFrame(items, index=['pants','book'])\n",
    "new_df.insert(2, 'xxx', new_df['Bob'] + new_df['Alice'])\n",
    "new_df.rename(columns={'xxx': 'Total'}, inplace=True)\n",
    "print(new_df)\n"
   ]
  },
  {
   "cell_type": "markdown",
   "metadata": {},
   "source": [
    "## Deal with NaN in the dataframe"
   ]
  },
  {
   "cell_type": "code",
   "execution_count": 47,
   "metadata": {},
   "outputs": [
    {
     "name": "stdout",
     "output_type": "stream",
     "text": [
      "        Bob  Alice  Total\n",
      "pants  25.0     45   70.0\n",
      "book    NaN     40    NaN\n",
      "2\n",
      "4\n",
      "        Bob  Alice  Total\n",
      "pants  25.0     45   70.0\n",
      "        Bob  Alice  Total\n",
      "pants  25.0     45   70.0\n",
      "book    0.0     40    0.0\n"
     ]
    }
   ],
   "source": [
    "print(new_df)\n",
    "nan_count = new_df.isnull().sum().sum() # first sum is for columns, second sum is for rows\n",
    "print(nan_count)\n",
    "# the opposite is\n",
    "not_nan_count = new_df.count().sum()\n",
    "print(not_nan_count)\n",
    "# replace NaN with 0\n",
    "without_nan = new_df.dropna(axis=0) # remove rows with NaN versus axis=1 for columns\n",
    "print(without_nan)\n",
    "# replace NaN with 0\n",
    "without_nan = new_df.fillna(0)\n",
    "print(without_nan)"
   ]
  }
 ],
 "metadata": {
  "kernelspec": {
   "display_name": "base",
   "language": "python",
   "name": "python3"
  },
  "language_info": {
   "codemirror_mode": {
    "name": "ipython",
    "version": 3
   },
   "file_extension": ".py",
   "mimetype": "text/x-python",
   "name": "python",
   "nbconvert_exporter": "python",
   "pygments_lexer": "ipython3",
   "version": "3.11.7"
  }
 },
 "nbformat": 4,
 "nbformat_minor": 2
}
